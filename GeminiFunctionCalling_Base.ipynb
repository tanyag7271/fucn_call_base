{
  "nbformat": 4,
  "nbformat_minor": 0,
  "metadata": {
    "colab": {
      "provenance": [],
      "include_colab_link": true
    },
    "kernelspec": {
      "name": "python3",
      "display_name": "Python 3"
    },
    "language_info": {
      "name": "python"
    }
  },
  "cells": [
    {
      "cell_type": "markdown",
      "metadata": {
        "id": "view-in-github",
        "colab_type": "text"
      },
      "source": [
        "<a href=\"https://colab.research.google.com/github/tanyag7271/fucn_call_base/blob/main/GeminiFunctionCalling_Base.ipynb\" target=\"_parent\"><img src=\"https://colab.research.google.com/assets/colab-badge.svg\" alt=\"Open In Colab\"/></a>"
      ]
    },
    {
      "cell_type": "markdown",
      "source": [
        "# Basic Gemini Function Calling\n",
        "\n",
        "This notebook follows along the required code to complete the lab on [How to Interact with APIs Using Function Calling in Gemini\n",
        "](https://codelabs.developers.google.com/codelabs/gemini-function-calling) by [@koverholt](https://github.com/koverholt)."
      ],
      "metadata": {
        "id": "EJOQZY29makV"
      }
    },
    {
      "cell_type": "markdown",
      "source": [
        "## Step 1. Overview\n",
        "This section talks about the importance of Function Calling and how it enables Gemini to access data that may be real-time, protected or otherwise unavailable in the Gemini training datasets."
      ],
      "metadata": {
        "id": "74lqwXX-m-wf"
      }
    },
    {
      "cell_type": "markdown",
      "source": [
        "## Step 2. Setup and requirements"
      ],
      "metadata": {
        "id": "Q0FxkQ9Nm4DE"
      }
    },
    {
      "cell_type": "code",
      "execution_count": null,
      "metadata": {
        "id": "YMqhtV0LT2Ff"
      },
      "outputs": [],
      "source": [
        "%%capture\n",
        "!pip install --upgrade google-cloud-aiplatform"
      ]
    },
    {
      "cell_type": "markdown",
      "source": [
        "## Step 3. Understand the problem"
      ],
      "metadata": {
        "id": "QLqRh1GenSAy"
      }
    },
    {
      "cell_type": "code",
      "source": [
        "print(\"-\"*150)"
      ],
      "metadata": {
        "colab": {
          "base_uri": "https://localhost:8080/"
        },
        "id": "Fby2m2LCuvvD",
        "outputId": "8d845e65-9bc0-4923-d4e4-a3462d97c750"
      },
      "execution_count": 1,
      "outputs": [
        {
          "output_type": "stream",
          "name": "stdout",
          "text": [
            "------------------------------------------------------------------------------------------------------------------------------------------------------\n"
          ]
        }
      ]
    },
    {
      "cell_type": "markdown",
      "source": [
        "\n",
        "\n",
        "*  Task 1: Ask Gemini base version current currency conversion rates using function call\n",
        "*  Task 2: Enquire about real-time weather conditions of different cities/countries\n",
        "\n",
        "\n"
      ],
      "metadata": {
        "id": "nWZyNXJovVRi"
      }
    },
    {
      "cell_type": "code",
      "source": [
        "# Import VertexAI API\n",
        "import vertexai\n",
        "from vertexai.generative_models import (\n",
        "    Content,\n",
        "    FunctionDeclaration,\n",
        "    GenerativeModel,\n",
        "    Part,\n",
        "    Tool\n",
        ")"
      ],
      "metadata": {
        "id": "ADJFJ6acog0u"
      },
      "execution_count": 2,
      "outputs": []
    },
    {
      "cell_type": "code",
      "source": [
        "# call generative model Gemini 1.0\n",
        "\n",
        "model = GenerativeModel(\"gemini-1.0-pro\")"
      ],
      "metadata": {
        "id": "ZyyijvYxzWXK"
      },
      "execution_count": 4,
      "outputs": []
    },
    {
      "cell_type": "code",
      "source": [
        "%%time\n",
        "response = model.generate_content(\"What is the meanining of large language models?\")\n",
        "print(response.text)"
      ],
      "metadata": {
        "colab": {
          "base_uri": "https://localhost:8080/"
        },
        "id": "sa5O87a5z4GH",
        "outputId": "e7b7b9fe-0be7-4cf1-844d-7064fe46978e"
      },
      "execution_count": 5,
      "outputs": [
        {
          "output_type": "stream",
          "name": "stdout",
          "text": [
            "**Large Language Models (LLMs)**\n",
            "\n",
            "Large Language Models (LLMs) are advanced machine learning models trained on massive datasets of text. They are neural networks with billions of parameters, enabling them to:\n",
            "\n",
            "* **Understand and generate human-like text:** LLMs can comprehend and create coherent, grammatically correct, and contextually relevant text.\n",
            "* **Perform various language tasks:** They excel in tasks such as language translation, question answering, text summarization, code generation, and dialogue generation.\n",
            "* **Learn from vast amounts of data:** LLMs are trained on datasets containing trillions of words, allowing them to acquire a vast amount of linguistic knowledge.\n",
            "\n",
            "**Key Features of LLMs:**\n",
            "\n",
            "* **Self-supervised learning:** Trained on unlabeled text data, LLMs learn to predict the next word in a sequence or to fill in missing words.\n",
            "* **Generative and predictive:** LLMs can generate new text based on learned patterns and predict the likelihood of word sequences.\n",
            "* **Contextual understanding:** They consider the context of surrounding text to derive meaning and generate appropriate responses.\n",
            "* **Scalability:** LLMs can be trained on increasingly large datasets, further enhancing their performance.\n",
            "\n",
            "**Applications of LLMs:**\n",
            "\n",
            "LLMs have a wide range of applications in various fields, including:\n",
            "\n",
            "* **Natural language processing (NLP):** Language translation, chatbots, text summarization\n",
            "* **Education:** Personalized learning assistants, answer generation\n",
            "* **Content creation:** Article generation, scriptwriting\n",
            "* **Software development:** Code generation, bug fixing\n",
            "* **Business intelligence:** Data analysis, predictive modeling\n",
            "* **Healthcare:** Medical note processing, patient communication\n",
            "CPU times: user 45.5 ms, sys: 12.9 ms, total: 58.4 ms\n",
            "Wall time: 3.09 s\n"
          ]
        }
      ]
    },
    {
      "cell_type": "code",
      "source": [
        "# LLM is able to answer ques like above, but when asked about real-time or current information, it gives a response with outdated information\n",
        "response = model.generate_content(\"what is the weather in paris like today?\")\n",
        "print(response.text)"
      ],
      "metadata": {
        "colab": {
          "base_uri": "https://localhost:8080/"
        },
        "id": "w5SVWbgq0buo",
        "outputId": "b95cd98e-053c-4c04-8b9b-27ef99e96546"
      },
      "execution_count": 6,
      "outputs": [
        {
          "output_type": "stream",
          "name": "stdout",
          "text": [
            "I do not have real-time capabilities and my knowledge cutoff is April 2023. Therefore, I cannot provide an accurate weather forecast for Paris today.\n",
            "\n",
            "For the most up-to-date and accurate weather information, I recommend checking a reputable weather app or website, such as the Météo-France website or app.\n"
          ]
        }
      ]
    },
    {
      "cell_type": "code",
      "source": [
        "# In cases like these, you could call an external API then feed the results back to the generative model for it to use in its response\n",
        "# Step 1: Specify the API\n",
        "# Step 2: Function Declaration & Tool\n",
        "# Step 3: Generate a function call on behalf of LLM"
      ],
      "metadata": {
        "id": "jVP-FhMJ1PH5"
      },
      "execution_count": 7,
      "outputs": []
    },
    {
      "cell_type": "code",
      "source": [
        "import requests\n",
        "url = \"https://api.frankfurter.app/latest\"\n",
        "response = requests.get(url)\n",
        "response.json()"
      ],
      "metadata": {
        "colab": {
          "base_uri": "https://localhost:8080/"
        },
        "id": "hs_zj6T-3DK0",
        "outputId": "cbdf3a37-76a2-4cfe-fd5c-d0b3d5bbc6bd"
      },
      "execution_count": 8,
      "outputs": [
        {
          "output_type": "execute_result",
          "data": {
            "text/plain": [
              "{'amount': 1.0,\n",
              " 'base': 'EUR',\n",
              " 'date': '2024-03-15',\n",
              " 'rates': {'AUD': 1.6579,\n",
              "  'BGN': 1.9558,\n",
              "  'BRL': 5.4461,\n",
              "  'CAD': 1.4731,\n",
              "  'CHF': 0.9613,\n",
              "  'CNY': 7.838,\n",
              "  'CZK': 25.166,\n",
              "  'DKK': 7.4571,\n",
              "  'GBP': 0.8541,\n",
              "  'HKD': 8.5199,\n",
              "  'HUF': 393.2,\n",
              "  'IDR': 17011,\n",
              "  'ILS': 3.9811,\n",
              "  'INR': 90.26,\n",
              "  'ISK': 148.9,\n",
              "  'JPY': 162.03,\n",
              "  'KRW': 1448.71,\n",
              "  'MXN': 18.1915,\n",
              "  'MYR': 5.1241,\n",
              "  'NOK': 11.5205,\n",
              "  'NZD': 1.786,\n",
              "  'PHP': 60.494,\n",
              "  'PLN': 4.2953,\n",
              "  'RON': 4.9711,\n",
              "  'SEK': 11.2674,\n",
              "  'SGD': 1.4562,\n",
              "  'THB': 39.053,\n",
              "  'TRY': 35.092,\n",
              "  'USD': 1.0892,\n",
              "  'ZAR': 20.352}}"
            ]
          },
          "metadata": {},
          "execution_count": 8
        }
      ]
    },
    {
      "cell_type": "code",
      "source": [
        "# function declaration -----> Tool\n",
        "get_exchange_rate_func = FunctionDeclaration(\n",
        "    name=\"get_exchange_rate\",\n",
        "    description=\"Get the exchange rate for currencies between countries\",\n",
        "    parameters={\n",
        "    \"type\": \"object\",\n",
        "    \"properties\": {\n",
        "        \"currency_date\": {\n",
        "            \"type\": \"string\",\n",
        "            \"description\": \"A date that must always be in YYYY-MM-DD format or the value 'latest' if a time period is not specified\"\n",
        "        },\n",
        "        \"currency_from\": {\n",
        "            \"type\": \"string\",\n",
        "            \"description\": \"The currency to convert from in ISO 4217 format\"\n",
        "        },\n",
        "        \"currency_to\": {\n",
        "            \"type\": \"string\",\n",
        "            \"description\": \"The currency to convert to in ISO 4217 format\"\n",
        "        }\n",
        "    },\n",
        "         \"required\": [\n",
        "            \"currency_from\",\n",
        "            \"currency_date\",\n",
        "      ]\n",
        "  },\n",
        ")\n",
        "\n",
        "# register one or more function declarations in a tool\n",
        "exch_rate_tool = Tool(function_declarations=[get_exchange_rate_func],\n",
        "                      )"
      ],
      "metadata": {
        "id": "UPQHz77g3Wx_"
      },
      "execution_count": 21,
      "outputs": []
    },
    {
      "cell_type": "code",
      "source": [
        "prompt = \"\"\"What is the current conversion rate from Australian dollars to Indian Rupees?\"\"\"\n",
        "\n",
        "response = model.generate_content(prompt,\n",
        "                                  tools=[exch_rate_tool],\n",
        "                                  )\n"
      ],
      "metadata": {
        "id": "KHXlz44H8W5S"
      },
      "execution_count": 23,
      "outputs": []
    },
    {
      "cell_type": "code",
      "source": [
        "print(response.candidates[0].content)"
      ],
      "metadata": {
        "colab": {
          "base_uri": "https://localhost:8080/"
        },
        "id": "fw2Xkl66-C1i",
        "outputId": "7d06dc1b-c7f6-4f61-b7f3-d0a24a84153d"
      },
      "execution_count": 24,
      "outputs": [
        {
          "output_type": "stream",
          "name": "stdout",
          "text": [
            "role: \"model\"\n",
            "parts {\n",
            "  function_call {\n",
            "    name: \"get_exchange_rate\"\n",
            "    args {\n",
            "      fields {\n",
            "        key: \"currency_date\"\n",
            "        value {\n",
            "          string_value: \"latest\"\n",
            "        }\n",
            "      }\n",
            "      fields {\n",
            "        key: \"currency_from\"\n",
            "        value {\n",
            "          string_value: \"AUD\"\n",
            "        }\n",
            "      }\n",
            "      fields {\n",
            "        key: \"currency_to\"\n",
            "        value {\n",
            "          string_value: \"INR\"\n",
            "        }\n",
            "      }\n",
            "    }\n",
            "  }\n",
            "}\n",
            "\n"
          ]
        }
      ]
    },
    {
      "cell_type": "code",
      "source": [
        "params = {}\n",
        "for key, val in response.candidates[0].content.parts[0].function_call.args.items():\n",
        "  params[key[9:]] = val\n",
        "params"
      ],
      "metadata": {
        "colab": {
          "base_uri": "https://localhost:8080/"
        },
        "id": "J5250gYxHErH",
        "outputId": "5541d338-4bc8-4911-f693-0b8483efeafb"
      },
      "execution_count": 36,
      "outputs": [
        {
          "output_type": "execute_result",
          "data": {
            "text/plain": [
              "{'date': 'latest', 'from': 'AUD', 'to': 'INR'}"
            ]
          },
          "metadata": {},
          "execution_count": 36
        }
      ]
    },
    {
      "cell_type": "code",
      "source": [
        "url = f\"https://api.frankfurter.app/{params['date']}\"\n",
        "api_response = requests.get(url, params = params)\n",
        "api_response.text"
      ],
      "metadata": {
        "colab": {
          "base_uri": "https://localhost:8080/",
          "height": 36
        },
        "id": "cpdmGqOjH6d6",
        "outputId": "7c364625-ffa5-4e21-9ea4-48f8dc8c3d75"
      },
      "execution_count": 39,
      "outputs": [
        {
          "output_type": "execute_result",
          "data": {
            "text/plain": [
              "'{\"amount\":1.0,\"base\":\"AUD\",\"date\":\"2024-03-15\",\"rates\":{\"INR\":54.442}}'"
            ],
            "application/vnd.google.colaboratory.intrinsic+json": {
              "type": "string"
            }
          },
          "metadata": {},
          "execution_count": 39
        }
      ]
    },
    {
      "cell_type": "code",
      "source": [
        "# create a function response structure to pass that information back to the LLM\n",
        "response = model.generate_content(\n",
        "    [\n",
        "        Content(role=\"user\",\n",
        "                parts=[Part.from_text(prompt + \"\"\"Give your answer with context, including exchange rate, date and example taking 10 units of currency to convert from.\"\"\")\n",
        "                ]),\n",
        "        Content(role=\"function\", parts=[\n",
        "            Part.from_dict({\n",
        "                \"function_call\":{\n",
        "                     \"name\":\"get_exchange_rate_func\",\n",
        "                     }\n",
        "                })\n",
        "            ]),\n",
        "        Content(role=\"function\", parts=[\n",
        "            Part.from_function_response(name=\"get_exchange_rate_func\",\n",
        "                                        response={\n",
        "                                            \"content\":api_response.text,\n",
        "                                            }\n",
        "                                        )\n",
        "        ]),\n",
        "    ],\n",
        "    tools=[exch_rate_tool]\n",
        "\n",
        ")\n",
        "\n",
        "response.candidates[0].content.parts[0].text"
      ],
      "metadata": {
        "colab": {
          "base_uri": "https://localhost:8080/",
          "height": 36
        },
        "id": "leYv7q9vFpgi",
        "outputId": "280bd556-e930-42f7-fca4-d4a9cb652385"
      },
      "execution_count": 40,
      "outputs": [
        {
          "output_type": "execute_result",
          "data": {
            "text/plain": [
              "'The exchange rate from Australian dollars to Indian Rupees as of 2024-03-15 is 1 AUD = 54.442 INR. Thus, if you exchange 10 Australian dollars, you will get 544.42 Indian Rupees.'"
            ],
            "application/vnd.google.colaboratory.intrinsic+json": {
              "type": "string"
            }
          },
          "metadata": {},
          "execution_count": 40
        }
      ]
    },
    {
      "cell_type": "code",
      "source": [],
      "metadata": {
        "id": "I2kNHENMIVrY"
      },
      "execution_count": null,
      "outputs": []
    }
  ]
}